{
 "cells": [
  {
   "cell_type": "code",
   "execution_count": 11,
   "metadata": {},
   "outputs": [],
   "source": [
    "from sympy import *\n",
    "init_printing(use_unicode=True)"
   ]
  },
  {
   "cell_type": "code",
   "execution_count": 3,
   "metadata": {},
   "outputs": [],
   "source": [
    "q_1 = 0.8*10**(-9)\n",
    "q_2 = 5.2*10**(-9)\n",
    "K = 8.99*10**9"
   ]
  },
  {
   "cell_type": "code",
   "execution_count": 9,
   "metadata": {},
   "outputs": [
    {
     "data": {
      "text/plain": [
       "3.595999999999999e-05"
      ]
     },
     "execution_count": 9,
     "metadata": {},
     "output_type": "execute_result"
    }
   ],
   "source": [
    "K*q_1*(q_2/(0.02)**2 -q_1/(0.01)**2)"
   ]
  },
  {
   "cell_type": "code",
   "execution_count": 14,
   "metadata": {},
   "outputs": [],
   "source": [
    "q_bee = 25e-12\n",
    "m_bee = 0.1/1000"
   ]
  },
  {
   "cell_type": "code",
   "execution_count": 19,
   "metadata": {},
   "outputs": [],
   "source": [
    "F_G = m_bee*9.8\n",
    "F_e = q_bee*100"
   ]
  },
  {
   "cell_type": "code",
   "execution_count": 21,
   "metadata": {},
   "outputs": [
    {
     "data": {
      "text/plain": [
       "2.5e-09"
      ]
     },
     "execution_count": 21,
     "metadata": {},
     "output_type": "execute_result"
    }
   ],
   "source": [
    "F_e"
   ]
  },
  {
   "cell_type": "code",
   "execution_count": 22,
   "metadata": {},
   "outputs": [
    {
     "data": {
      "text/plain": [
       "0.0009800000000000002"
      ]
     },
     "execution_count": 22,
     "metadata": {},
     "output_type": "execute_result"
    }
   ],
   "source": [
    "F_G"
   ]
  },
  {
   "cell_type": "code",
   "execution_count": 25,
   "metadata": {},
   "outputs": [
    {
     "data": {
      "text/plain": [
       "2.551020408163265e-06"
      ]
     },
     "execution_count": 25,
     "metadata": {},
     "output_type": "execute_result"
    }
   ],
   "source": [
    "F_e/F_G"
   ]
  },
  {
   "cell_type": "code",
   "execution_count": 26,
   "metadata": {},
   "outputs": [
    {
     "data": {
      "text/plain": [
       "0.0009800000000000002"
      ]
     },
     "execution_count": 26,
     "metadata": {},
     "output_type": "execute_result"
    }
   ],
   "source": [
    "F_G"
   ]
  },
  {
   "cell_type": "code",
   "execution_count": 59,
   "metadata": {},
   "outputs": [],
   "source": [
    "q1= 3e-9\n",
    "q2= 6e-9\n",
    "K=8.99e9\n",
    "x=5e-2\n",
    "y=10e-2"
   ]
  },
  {
   "cell_type": "code",
   "execution_count": 65,
   "metadata": {},
   "outputs": [
    {
     "data": {
      "image/png": "[encoded data removed]",
      "text/latex": [
       "$$\\left [ \\left[\\begin{matrix}10788.0\\\\0\\end{matrix}\\right], \\quad \\left[\\begin{matrix}-1929.81610730142\\\\-3859.63221460284\\end{matrix}\\right]\\right ]$$"
      ],
      "text/plain": [
       "⎡⎡10788.0⎤  ⎡-1929.81610730142⎤⎤\n",
       "⎢⎢       ⎥, ⎢                 ⎥⎥\n",
       "⎣⎣   0   ⎦  ⎣-3859.63221460284⎦⎦"
      ]
     },
     "execution_count": 65,
     "metadata": {},
     "output_type": "execute_result"
    }
   ],
   "source": [
    "A = K*q1/(y-x)**2*Matrix([1,0])\n",
    "B = ((K*q2)/(x**2+y**2))*-1*Matrix([x,y])/sqrt(x**2+y**2)\n",
    "[A,B]"
   ]
  },
  {
   "cell_type": "code",
   "execution_count": 70,
   "metadata": {},
   "outputs": [
    {
     "data": {
      "image/png": "[encoded data removed]",
      "text/latex": [
       "$$4315.2$$"
      ],
      "text/plain": [
       "4315.20000000000"
      ]
     },
     "execution_count": 70,
     "metadata": {},
     "output_type": "execute_result"
    }
   ],
   "source": [
    "sqrt((B).dot(B))"
   ]
  },
  {
   "cell_type": "code",
   "execution_count": 72,
   "metadata": {},
   "outputs": [
    {
     "data": {
      "image/png": "[encoded data removed]",
      "text/latex": [
       "$$10788.0$$"
      ],
      "text/plain": [
       "10788.0000000000"
      ]
     },
     "execution_count": 72,
     "metadata": {},
     "output_type": "execute_result"
    }
   ],
   "source": [
    "sqrt((A).dot(A))"
   ]
  },
  {
   "cell_type": "code",
   "execution_count": 74,
   "metadata": {},
   "outputs": [
    {
     "data": {
      "image/png": "[encoded data removed]",
      "text/latex": [
       "$$9662.51430575213$$"
      ],
      "text/plain": [
       "9662.51430575213"
      ]
     },
     "execution_count": 74,
     "metadata": {},
     "output_type": "execute_result"
    }
   ],
   "source": [
    "sqrt((B+A).dot(B+A))"
   ]
  },
  {
   "cell_type": "code",
   "execution_count": 76,
   "metadata": {},
   "outputs": [],
   "source": [
    "C = A+B"
   ]
  },
  {
   "cell_type": "code",
   "execution_count": 79,
   "metadata": {},
   "outputs": [
    {
     "data": {
      "image/png": "[encoded data removed]",
      "text/latex": [
       "$$-0.410910150787973$$"
      ],
      "text/plain": [
       "-0.410910150787973"
      ]
     },
     "execution_count": 79,
     "metadata": {},
     "output_type": "execute_result"
    }
   ],
   "source": [
    "atan(C[1]/C[0])"
   ]
  },
  {
   "cell_type": "code",
   "execution_count": 85,
   "metadata": {},
   "outputs": [
    {
     "data": {
      "image/png": "[encoded data removed]",
      "text/latex": [
       "$$39200000.0$$"
      ],
      "text/plain": [
       "39200000.0"
      ]
     },
     "execution_count": 85,
     "metadata": {},
     "output_type": "execute_result"
    }
   ],
   "source": [
    "9.8e-4/25e-12"
   ]
  },
  {
   "cell_type": "code",
   "execution_count": 91,
   "metadata": {},
   "outputs": [
    {
     "data": {
      "image/png": "[encoded data removed]",
      "text/latex": [
       "$$54.06006674082314$$"
      ],
      "text/plain": [
       "54.06006674082314"
      ]
     },
     "execution_count": 91,
     "metadata": {},
     "output_type": "execute_result"
    }
   ],
   "source": [
    "((9e-2)**2*60000/K)*1e9"
   ]
  },
  {
   "cell_type": "code",
   "execution_count": 94,
   "metadata": {},
   "outputs": [
    {
     "data": {
      "image/png": "[encoded data removed]",
      "text/latex": [
       "$$-5993333333333.334$$"
      ],
      "text/plain": [
       "-5993333333333.334"
      ]
     },
     "execution_count": 94,
     "metadata": {},
     "output_type": "execute_result"
    }
   ],
   "source": [
    "-1*K*30*(25e-2/2)/(25e-2/2-5e-2)**2"
   ]
  },
  {
   "cell_type": "code",
   "execution_count": 4,
   "metadata": {},
   "outputs": [
    {
     "data": {
      "image/png": "[encoded data removed]",
      "text/latex": [
       "$$0.0008289439896223593$$"
      ],
      "text/plain": [
       "0.0008289439896223593"
      ]
     },
     "execution_count": 4,
     "metadata": {},
     "output_type": "execute_result"
    }
   ],
   "source": [
    "(2*K*30e-9*(25e-2/2)/((25e-2/2)**2+5e-2**2)**(3/2))*30e-9"
   ]
  },
  {
   "cell_type": "code",
   "execution_count": 50,
   "metadata": {},
   "outputs": [],
   "source": [
    "L1 = 10e-2\n",
    "q1 = 7e-9\n",
    "s = 3.7e-2\n",
    "d1 = 1e-2\n",
    "d2 = 2e-2\n",
    "d3 = 3e-2\n",
    "e0 = 8.85e-12"
   ]
  },
  {
   "cell_type": "code",
   "execution_count": 42,
   "metadata": {},
   "outputs": [],
   "source": [
    "l1 = q1/L1 \n",
    "l2 = l1"
   ]
  },
  {
   "cell_type": "code",
   "execution_count": 41,
   "metadata": {},
   "outputs": [
    {
     "data": {
      "image/png": "[encoded data removed]",
      "text/latex": [
       "$$\\left ( \\frac{395480.225988701}{\\pi}, \\quad \\frac{84144.7289337661}{\\pi}, \\quad 99101.1666325301\\right )$$"
      ],
      "text/plain": [
       "⎛395480.225988701  84144.7289337661                  ⎞\n",
       "⎜────────────────, ────────────────, 99101.1666325301⎟\n",
       "⎝       π                 π                          ⎠"
      ]
     },
     "execution_count": 41,
     "metadata": {},
     "output_type": "execute_result"
    }
   ],
   "source": [
    "E11 = l1/(2*pi*e0*d1)\n",
    "E12 = l2/(2*pi*e0*(d1+s))\n",
    "E1 = E11-E12\n",
    "(E11, E12, N(E1))"
   ]
  },
  {
   "cell_type": "code",
   "execution_count": 26,
   "metadata": {},
   "outputs": [
    {
     "data": {
      "image/png": "[encoded data removed]",
      "text/latex": [
       "$$\\left ( \\frac{197646.586696524}{\\pi}, \\quad - \\frac{69349.6795426401}{\\pi}, \\quad 40838.1739138852\\right )$$"
      ],
      "text/plain": [
       "⎛197646.586696524  -69349.6795426401                   ⎞\n",
       "⎜────────────────, ──────────────────, 40838.1739138852⎟\n",
       "⎝       π                  π                           ⎠"
      ]
     },
     "execution_count": 26,
     "metadata": {},
     "output_type": "execute_result"
    }
   ],
   "source": [
    "E21 = l1/(2*pi*e0*d2)\n",
    "E22 = l2/(2*pi*e0*(d2+s))\n",
    "E2 = E21+E22\n",
    "(E21, E22, N(E2))"
   ]
  },
  {
   "cell_type": "code",
   "execution_count": 28,
   "metadata": {},
   "outputs": [
    {
     "data": {
      "image/png": "[encoded data removed]",
      "text/latex": [
       "$$\\left ( \\frac{131764.391131016}{\\pi}, \\quad - \\frac{58998.9811034401}{\\pi}, \\quad 23161.9493839946\\right )$$"
      ],
      "text/plain": [
       "⎛131764.391131016  -58998.9811034401                   ⎞\n",
       "⎜────────────────, ──────────────────, 23161.9493839946⎟\n",
       "⎝       π                  π                           ⎠"
      ]
     },
     "execution_count": 28,
     "metadata": {},
     "output_type": "execute_result"
    }
   ],
   "source": [
    "E31 = l1/(2*pi*e0*d3)\n",
    "E32 = l2/(2*pi*e0*(d3+s))\n",
    "E3 = E31+E32\n",
    "(E31, E32, N(E3))"
   ]
  },
  {
   "cell_type": "code",
   "execution_count": 43,
   "metadata": {},
   "outputs": [
    {
     "data": {
      "image/png": "[encoded data removed]",
      "text/latex": [
       "$$\\left ( 99101.1666325301, \\quad 40838.1739138852, \\quad 23161.9493839946\\right )$$"
      ],
      "text/plain": [
       "(99101.1666325301, 40838.1739138852, 23161.9493839946)"
      ]
     },
     "execution_count": 43,
     "metadata": {},
     "output_type": "execute_result"
    }
   ],
   "source": [
    "(N(E1),N(E2),N(E3))"
   ]
  },
  {
   "cell_type": "code",
   "execution_count": 67,
   "metadata": {},
   "outputs": [],
   "source": [
    "def rod (Q,L,r):\n",
    "    return Q/(4*pi*e0*r*sqrt(r**2+(L/2)**2))"
   ]
  },
  {
   "cell_type": "code",
   "execution_count": 93,
   "metadata": {},
   "outputs": [
    {
     "data": {
      "image/png": "[encoded data removed]",
      "text/latex": [
       "$$214081.099606735$$"
      ],
      "text/plain": [
       "214081.099606735"
      ]
     },
     "execution_count": 93,
     "metadata": {},
     "output_type": "execute_result"
    }
   ],
   "source": [
    "N(+rod(q1,L1,s-d3)+rod(q1,L1,d3))"
   ]
  },
  {
   "cell_type": "code",
   "execution_count": 95,
   "metadata": {},
   "outputs": [],
   "source": [
    "def ring (Q,R,z):\n",
    "    return K*z*Q/((z**2+R**2)**(3/2))"
   ]
  },
  {
   "cell_type": "code",
   "execution_count": 101,
   "metadata": {},
   "outputs": [
    {
     "data": {
      "image/png": "[encoded data removed]",
      "text/latex": [
       "$$3.4520771498170056e-09$$"
      ],
      "text/plain": [
       "3.4520771498170056e-09"
      ]
     },
     "execution_count": 101,
     "metadata": {},
     "output_type": "execute_result"
    }
   ],
   "source": [
    "    2*ring(30e-9,10e-2/2,25/2)*1e-9"
   ]
  },
  {
   "cell_type": "code",
   "execution_count": 109,
   "metadata": {},
   "outputs": [
    {
     "data": {
      "image/png": "[encoded data removed]",
      "text/latex": [
       "$$4.426560904583399e-15$$"
      ],
      "text/plain": [
       "4.426560904583399e-15"
      ]
     },
     "execution_count": 109,
     "metadata": {},
     "output_type": "execute_result"
    }
   ],
   "source": [
    "2*ring(30e-9,10e-2/2,25e-2/2)*1.602e-19"
   ]
  }
 ],
 "metadata": {
  "kernelspec": {
   "display_name": "Python 3",
   "language": "python",
   "name": "python3"
  },
  "language_info": {
   "codemirror_mode": {
    "name": "ipython",
    "version": 3
   },
   "file_extension": ".py",
   "mimetype": "text/x-python",
   "name": "python",
   "nbconvert_exporter": "python",
   "pygments_lexer": "ipython3",
   "version": "3.6.2"
  }
 },
 "nbformat": 4,
 "nbformat_minor": 2
}
