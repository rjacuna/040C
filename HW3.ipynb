{
 "cells": [
  {
   "cell_type": "code",
   "execution_count": 2,
   "metadata": {},
   "outputs": [],
   "source": [
    "from sympy import *\n",
    "init_printing(use_unicode=True)"
   ]
  },
  {
   "cell_type": "markdown",
   "metadata": {},
   "source": [
    "# 1\n",
    "\n",
    "\n",
    "The electric field strength is $5.00×10^4$ N/C inside a parallel-plate capacitor with a $1.70$ mm spacing. A proton is released from rest at the positive plate.\n",
    "\n",
    "What is the proton's speed when it reaches the negative plate?\n"
   ]
  },
  {
   "cell_type": "code",
   "execution_count": 3,
   "metadata": {},
   "outputs": [],
   "source": [
    "E= 5e4\n",
    "d= 1.7e-3"
   ]
  },
  {
   "cell_type": "code",
   "execution_count": 5,
   "metadata": {},
   "outputs": [
    {
     "data": {
      "image/png": "[encoded data removed]",
      "text/latex": [
       "$$85.0$$"
      ],
      "text/plain": [
       "85.0"
      ]
     },
     "execution_count": 5,
     "metadata": {},
     "output_type": "execute_result"
    }
   ],
   "source": [
    "v= E*d\n",
    "v"
   ]
  },
  {
   "cell_type": "code",
   "execution_count": 4,
   "metadata": {},
   "outputs": [],
   "source": [
    "q= 1.6e-19\n",
    "m= 1.67e-27"
   ]
  },
  {
   "cell_type": "code",
   "execution_count": 6,
   "metadata": {},
   "outputs": [
    {
     "data": {
      "image/png": "[encoded data removed]",
      "text/latex": [
       "$$1.3599999999999999e-17$$"
      ],
      "text/plain": [
       "1.3599999999999999e-17"
      ]
     },
     "execution_count": 6,
     "metadata": {},
     "output_type": "execute_result"
    }
   ],
   "source": [
    "q*v"
   ]
  },
  {
   "cell_type": "code",
   "execution_count": 7,
   "metadata": {},
   "outputs": [
    {
     "data": {
      "image/png": "[encoded data removed]",
      "text/latex": [
       "$$127622.196931806$$"
      ],
      "text/plain": [
       "127622.196931806"
      ]
     },
     "execution_count": 7,
     "metadata": {},
     "output_type": "execute_result"
    }
   ],
   "source": [
    "sqrt(2*q*v/m)"
   ]
  },
  {
   "cell_type": "markdown",
   "metadata": {},
   "source": [
    "Because $qv = \\frac{1}{2}mv^2 \\implies v = \\pm\\sqrt{\\frac{2qv}{m}}$"
   ]
  },
  {
   "cell_type": "markdown",
   "metadata": {},
   "source": [
    "# 2\n",
    "A water molecule perpendicular to an electric field has $5.00×10^{−22}$ J more potential energy than a water molecule aligned with the field. The dipole moment of a water molecule is $6.2×10^{−30}$ Cm."
   ]
  },
  {
   "cell_type": "code",
   "execution_count": 8,
   "metadata": {},
   "outputs": [
    {
     "data": {
      "image/png": "[encoded data removed]",
      "text/latex": [
       "$$80645161.29032257$$"
      ],
      "text/plain": [
       "80645161.29032257"
      ]
     },
     "execution_count": 8,
     "metadata": {},
     "output_type": "execute_result"
    }
   ],
   "source": [
    "5e-22/6.2e-30"
   ]
  },
  {
   "cell_type": "markdown",
   "metadata": {},
   "source": [
    "# 3\n",
    "A proton with an initial speed of $8.50×10^5$ m/s is brought to rest by an electric field."
   ]
  },
  {
   "cell_type": "markdown",
   "metadata": {},
   "source": [
    "The following is true $V = \\frac{mv^2}{2q}$"
   ]
  },
  {
   "cell_type": "code",
   "execution_count": 9,
   "metadata": {},
   "outputs": [
    {
     "data": {
      "image/png": "[encoded data removed]",
      "text/latex": [
       "$$4.4359375000000006e+44$$"
      ],
      "text/plain": [
       "4.4359375000000006e+44"
      ]
     },
     "execution_count": 9,
     "metadata": {},
     "output_type": "execute_result"
    }
   ],
   "source": [
    "(m*8.5e52/2)/q"
   ]
  },
  {
   "cell_type": "markdown",
   "metadata": {},
   "source": [
    "# 4\n",
    "\n",
    "In proton-beam therapy, a high-energy beam of protons is fired at a tumor. As the protons stop in the tumor, their kinetic energy breaks apart the tumor's DNA, thus killing the tumor cells. For one patient, it is desired to deposit $0.11 J$ of proton energy in the tumor. To create the proton beam, protons are accelerated from rest through a $1.0×10^4 kV$ potential difference.\n",
    "\n",
    "What is the total charge of the protons that must be fired at the tumor?\n"
   ]
  },
  {
   "cell_type": "code",
   "execution_count": 10,
   "metadata": {},
   "outputs": [],
   "source": [
    "E=0.12\n",
    "dV= 8e6\n",
    "p = 1.6e-19"
   ]
  },
  {
   "cell_type": "code",
   "execution_count": 29,
   "metadata": {},
   "outputs": [
    {
     "data": {
      "image/png": "[encoded data removed]",
      "text/latex": [
       "$$1.5e-08$$"
      ],
      "text/plain": [
       "1.5e-08"
      ]
     },
     "execution_count": 29,
     "metadata": {},
     "output_type": "execute_result"
    }
   ],
   "source": [
    "E/dV"
   ]
  },
  {
   "cell_type": "markdown",
   "metadata": {},
   "source": [
    "# 5\n",
    "\n",
    "A $3.3-cm$-diameter parallel-plate capacitor has a $1.7 mm$ spacing. The electric field strength inside the capacitor is $1.5×10^5 V/m$ . "
   ]
  },
  {
   "cell_type": "code",
   "execution_count": 3,
   "metadata": {},
   "outputs": [],
   "source": [
    "E=1.5e5\n",
    "d = 1.7e-3\n",
    "r = 3.3e-2/2"
   ]
  },
  {
   "cell_type": "code",
   "execution_count": 4,
   "metadata": {},
   "outputs": [
    {
     "data": {
      "image/png": "[encoded data removed]",
      "text/latex": [
       "$$255.0$$"
      ],
      "text/plain": [
       "255.0"
      ]
     },
     "execution_count": 4,
     "metadata": {},
     "output_type": "execute_result"
    }
   ],
   "source": [
    "V= E*d\n",
    "V"
   ]
  },
  {
   "cell_type": "code",
   "execution_count": 6,
   "metadata": {},
   "outputs": [],
   "source": [
    "e_0 =  8.854e-12"
   ]
  },
  {
   "cell_type": "code",
   "execution_count": 7,
   "metadata": {},
   "outputs": [
    {
     "data": {
      "image/png": "[encoded data removed]",
      "text/latex": [
       "$$1.13592207058008 \\cdot 10^{-9}$$"
      ],
      "text/plain": [
       "1.13592207058008e-9"
      ]
     },
     "execution_count": 7,
     "metadata": {},
     "output_type": "execute_result"
    }
   ],
   "source": [
    "N(V*e_0*pi*r**2/d)"
   ]
  },
  {
   "cell_type": "markdown",
   "metadata": {},
   "source": [
    "# 6\n",
    "\n",
    "In a semiclassical model of the hydrogen atom, the electron orbits the proton at a distance of $0.053 nm$."
   ]
  },
  {
   "cell_type": "code",
   "execution_count": 21,
   "metadata": {},
   "outputs": [],
   "source": [
    "k =  9e9\n",
    "d = 0.053e-9"
   ]
  },
  {
   "cell_type": "code",
   "execution_count": 13,
   "metadata": {},
   "outputs": [
    {
     "data": {
      "image/png": "[encoded data removed]",
      "text/latex": [
       "$$27.169811320754718$$"
      ],
      "text/plain": [
       "27.169811320754718"
      ]
     },
     "execution_count": 13,
     "metadata": {},
     "output_type": "execute_result"
    }
   ],
   "source": [
    "V = k*p/d\n",
    "V"
   ]
  },
  {
   "cell_type": "code",
   "execution_count": 20,
   "metadata": {},
   "outputs": [
    {
     "data": {
      "image/png": "[encoded data removed]",
      "text/latex": [
       "$$-4.352e-18$$"
      ],
      "text/plain": [
       "-4.352e-18"
      ]
     },
     "execution_count": 20,
     "metadata": {},
     "output_type": "execute_result"
    }
   ],
   "source": [
    "U= -p*27.2\n",
    "U"
   ]
  },
  {
   "cell_type": "markdown",
   "metadata": {},
   "source": [
    "# 7\n",
    "The electric potential at the dot in the figure is 3200 V."
   ]
  },
  {
   "cell_type": "code",
   "execution_count": 48,
   "metadata": {},
   "outputs": [],
   "source": [
    "q_1 = 5e-9\n",
    "d_1 = 2e-2\n",
    "q_2 = -q_1\n",
    "d_2 = 4e-2\n",
    "d_3 = sqrt(d_1**2 + d_2**2)\n",
    "V = 3200"
   ]
  },
  {
   "cell_type": "code",
   "execution_count": 34,
   "metadata": {},
   "outputs": [
    {
     "data": {
      "image/png": "[encoded data removed]",
      "text/latex": [
       "$$2250.0$$"
      ],
      "text/plain": [
       "2250.0"
      ]
     },
     "execution_count": 34,
     "metadata": {},
     "output_type": "execute_result"
    }
   ],
   "source": [
    "V_1 = k*q_1/d_1\n",
    "V_1"
   ]
  },
  {
   "cell_type": "code",
   "execution_count": 40,
   "metadata": {},
   "outputs": [
    {
     "data": {
      "image/png": "[encoded data removed]",
      "text/latex": [
       "$$-1125.0$$"
      ],
      "text/plain": [
       "-1125.0"
      ]
     },
     "execution_count": 40,
     "metadata": {},
     "output_type": "execute_result"
    }
   ],
   "source": [
    "V_2= k*q_2/d_2\n",
    "V_2"
   ]
  },
  {
   "cell_type": "code",
   "execution_count": 49,
   "metadata": {},
   "outputs": [
    {
     "data": {
      "image/png": "[encoded data removed]",
      "text/latex": [
       "$$1.0310757896249 \\cdot 10^{-8}$$"
      ],
      "text/plain": [
       "1.03107578962490e-8"
      ]
     },
     "execution_count": 49,
     "metadata": {},
     "output_type": "execute_result"
    }
   ],
   "source": [
    "(V -(V_1+V_2))*d_3/k"
   ]
  },
  {
   "cell_type": "markdown",
   "metadata": {},
   "source": [
    "# 8\n",
    "Living cells \"pump\" singly ionized sodium ions, Na$^+$, from the inside of the cell to the outside to maintain a membrane potential ΔV membrane = $V_{in} −V_{out}$ = -70 mV It is called pumping because work must be done to move a positive ion from the negative inside of the cell to the positive outside, and it must go on continuously because sodium ions \"leak\" back through the cell wall by diffusion. \n",
    "How much work must be done to move one sodium ion from the inside of the cell to the outside? "
   ]
  },
  {
   "cell_type": "code",
   "execution_count": 51,
   "metadata": {},
   "outputs": [],
   "source": [
    "dV = -70e-3"
   ]
  },
  {
   "cell_type": "code",
   "execution_count": 56,
   "metadata": {},
   "outputs": [
    {
     "data": {
      "image/png": "[encoded data removed]",
      "text/latex": [
       "$$1.12e-20$$"
      ],
      "text/plain": [
       "1.12e-20"
      ]
     },
     "execution_count": 56,
     "metadata": {},
     "output_type": "execute_result"
    }
   ],
   "source": [
    "W = -p*dV\n",
    "W"
   ]
  },
  {
   "cell_type": "markdown",
   "metadata": {},
   "source": [
    " At rest, the human body uses energy at the rate of approximately 100 W to maintain basic metabolic functions. It has been estimated that 15% of this energy is used to operate the sodium pumps of the body. Estimate−to one significant figure−the number of sodium ions pumped per second. "
   ]
  },
  {
   "cell_type": "code",
   "execution_count": 59,
   "metadata": {},
   "outputs": [
    {
     "data": {
      "image/png": "[encoded data removed]",
      "text/latex": [
       "$$1.3392857142857142e+21$$"
      ],
      "text/plain": [
       "1.3392857142857142e+21"
      ]
     },
     "execution_count": 59,
     "metadata": {},
     "output_type": "execute_result"
    }
   ],
   "source": [
    "100*0.15/W"
   ]
  },
  {
   "cell_type": "markdown",
   "metadata": {},
   "source": [
    "# 9\n",
    "The electron gun in an old TV picture tube accelerates electrons between two parallel plates 1.0 cm apart with a 29 kV potential difference between them. The electrons enter through a small hole in the negative plate, accelerate, then exit through a small hole in the positive plate. Assume that the holes are small enough not to affect the electric field or potential. "
   ]
  },
  {
   "cell_type": "code",
   "execution_count": 64,
   "metadata": {},
   "outputs": [],
   "source": [
    "d = 1e-2\n",
    "dV = 29e3\n",
    "m = 9.1e-31"
   ]
  },
  {
   "cell_type": "code",
   "execution_count": 68,
   "metadata": {},
   "outputs": [
    {
     "data": {
      "image/png": "[encoded data removed]",
      "text/latex": [
       "$$2900000.0$$"
      ],
      "text/plain": [
       "2900000.0"
      ]
     },
     "execution_count": 68,
     "metadata": {},
     "output_type": "execute_result"
    }
   ],
   "source": [
    "E = dV/d\n",
    "E"
   ]
  },
  {
   "cell_type": "code",
   "execution_count": 72,
   "metadata": {},
   "outputs": [
    {
     "data": {
      "image/png": "[encoded data removed]",
      "text/latex": [
       "$$100984168.055207$$"
      ],
      "text/plain": [
       "100984168.055207"
      ]
     },
     "execution_count": 72,
     "metadata": {},
     "output_type": "execute_result"
    }
   ],
   "source": [
    "v = sqrt(2*dV*p/m)\n",
    "v"
   ]
  }
 ],
 "metadata": {
  "kernelspec": {
   "display_name": "Python 3",
   "language": "python",
   "name": "python3"
  },
  "language_info": {
   "codemirror_mode": {
    "name": "ipython",
    "version": 3
   },
   "file_extension": ".py",
   "mimetype": "text/x-python",
   "name": "python",
   "nbconvert_exporter": "python",
   "pygments_lexer": "ipython3",
   "version": "3.6.2"
  }
 },
 "nbformat": 4,
 "nbformat_minor": 2
}
