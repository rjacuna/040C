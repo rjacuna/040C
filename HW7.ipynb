{
 "cells": [
  {
   "cell_type": "code",
   "execution_count": 2,
   "metadata": {},
   "outputs": [],
   "source": [
    "from sympy import *\n",
    "init_printing(use_unicode=True)"
   ]
  },
  {
   "cell_type": "markdown",
   "metadata": {},
   "source": [
    "Dipole Moment is current times area"
   ]
  },
  {
   "cell_type": "code",
   "execution_count": 5,
   "metadata": {},
   "outputs": [
    {
     "data": {
      "image/png": "[encoded data removed]",
      "text/latex": [
       "$$0.000457023191280975$$"
      ],
      "text/plain": [
       "0.000457023191280975"
      ]
     },
     "execution_count": 5,
     "metadata": {},
     "output_type": "execute_result"
    }
   ],
   "source": [
    "N(110*pi*(2.3e-3/2)**2)"
   ]
  },
  {
   "cell_type": "markdown",
   "metadata": {},
   "source": [
    "B field of a current loop along the axis:\n",
    "\n",
    "$\\frac{\\mu_0}{4\\pi}\\frac{2\\pi R^2I}{(z^2+R^2)^{\\frac{3}{2}}}$"
   ]
  },
  {
   "cell_type": "code",
   "execution_count": 8,
   "metadata": {},
   "outputs": [],
   "source": [
    "mu0 = 1.2566370614e-6"
   ]
  },
  {
   "cell_type": "code",
   "execution_count": 13,
   "metadata": {},
   "outputs": [],
   "source": [
    "R = 2.3e-3/2\n",
    "z = 5e-2"
   ]
  },
  {
   "cell_type": "code",
   "execution_count": 11,
   "metadata": {},
   "outputs": [],
   "source": [
    "I=110"
   ]
  },
  {
   "cell_type": "code",
   "execution_count": 15,
   "metadata": {},
   "outputs": [
    {
     "data": {
      "image/png": "[encoded data removed]",
      "text/latex": [
       "$$7.306572528298521e-07$$"
      ],
      "text/plain": [
       "7.306572528298521e-07"
      ]
     },
     "execution_count": 15,
     "metadata": {},
     "output_type": "execute_result"
    }
   ],
   "source": [
    "mu0*R**2*I/(2*(z**2+R**2)**(3/2))"
   ]
  },
  {
   "cell_type": "markdown",
   "metadata": {},
   "source": [
    "direction of magnetic field in cylindrical coordinates is $\\hat{\\theta}$\n",
    "\n",
    "$\\oint \\vec{B}(\\vec{r})d\\vec{l} = 2\\pi r B(r)$\n",
    "\n",
    "$\\mu_0\\int \\vec{j}d\\vec{A} = \\mu_0 j \\pi a^2$\n",
    "\n",
    "$2\\pi r B(r) = \\mu_0 j \\pi a^2$\n",
    "\n",
    "$\\implies B_out(r) = \\frac{\\mu_0 j a^2}{2 r}$"
   ]
  },
  {
   "cell_type": "code",
   "execution_count": 20,
   "metadata": {},
   "outputs": [
    {
     "data": {
      "image/png": "[encoded data removed]",
      "text/latex": [
       "$$26.32394487867999$$"
      ],
      "text/plain": [
       "26.32394487867999"
      ]
     },
     "execution_count": 20,
     "metadata": {},
     "output_type": "execute_result"
    }
   ],
   "source": [
    "1.8e-5/mu0+12"
   ]
  },
  {
   "cell_type": "code",
   "execution_count": 22,
   "metadata": {},
   "outputs": [
    {
     "data": {
      "image/png": "[encoded data removed]",
      "text/latex": [
       "$$8.796459429799999e-07$$"
      ],
      "text/plain": [
       "8.796459429799999e-07"
      ]
     },
     "execution_count": 22,
     "metadata": {},
     "output_type": "execute_result"
    }
   ],
   "source": [
    "mu0*1.4/2"
   ]
  },
  {
   "cell_type": "markdown",
   "metadata": {},
   "source": [
    "$f_{cyc} = \\frac{qB}{2\\pi m}$\n",
    "\n",
    "$\\implies B = \\frac{2\\pi m \\cdot f_{cyc}}{q}$"
   ]
  },
  {
   "cell_type": "code",
   "execution_count": 25,
   "metadata": {},
   "outputs": [
    {
     "data": {
      "image/png": "[encoded data removed]",
      "text/latex": [
       "$$0.00160757402787121$$"
      ],
      "text/plain": [
       "0.00160757402787121"
      ]
     },
     "execution_count": 25,
     "metadata": {},
     "output_type": "execute_result"
    }
   ],
   "source": [
    "N(9.10938356e-31*2*pi*45e6/1.60217662e-19)"
   ]
  },
  {
   "cell_type": "markdown",
   "metadata": {},
   "source": [
    "$F = \\frac{\\mu_0 I_1 I_2 l}{2\\pi r}$\n",
    "\n",
    "$1.26e−4 = \\frac{\\mu_0 *9/2  * 9/R *10e-2}{2\\pi 5e-3} = \\frac{\\mu_0 * 81*10e-2}{4\\pi R 5e-3} $\n",
    "\n",
    "$R = \\frac{\\mu_0 *9/2  * 9/R *10e-2}{2\\pi 5e-3} = \\frac{\\mu_0 * 81*10e-2}{4\\pi 1.26e−4 5e-3} $"
   ]
  },
  {
   "cell_type": "code",
   "execution_count": 28,
   "metadata": {},
   "outputs": [
    {
     "data": {
      "image/png": "[encoded data removed]",
      "text/latex": [
       "$$1.28571428567754$$"
      ],
      "text/plain": [
       "1.28571428567754"
      ]
     },
     "execution_count": 28,
     "metadata": {},
     "output_type": "execute_result"
    }
   ],
   "source": [
    "N(mu0 * 81*10e-2/(4*pi *1.26e-4 *5e-3))"
   ]
  },
  {
   "cell_type": "markdown",
   "metadata": {},
   "source": [
    "$n=N/L$ and $B=\\mu_0 nI$\n",
    "\n",
    "$B = B_ring + B_loop = \\mu_0I/2\\pi r + \\mu_0I/2r = \\frac{\\mu_0 I}{2r}(\\frac{1}{pi}+1) $\n",
    "\n",
    "$B=\\frac{\\mu_0 I}{2r}(\\frac{1}{pi}+1) $"
   ]
  },
  {
   "cell_type": "code",
   "execution_count": 34,
   "metadata": {},
   "outputs": [
    {
     "data": {
      "image/png": "[encoded data removed]",
      "text/latex": [
       "$$0.00036288240392321$$"
      ],
      "text/plain": [
       "0.000362882403923210"
      ]
     },
     "execution_count": 34,
     "metadata": {},
     "output_type": "execute_result"
    }
   ],
   "source": [
    "N((mu0*4.6/2.1e-2)*(1/pi +1))"
   ]
  },
  {
   "cell_type": "code",
   "execution_count": 44,
   "metadata": {},
   "outputs": [
    {
     "data": {
      "image/png": "[encoded data removed]",
      "text/latex": [
       "$$3.7352690726716524$$"
      ],
      "text/plain": [
       "3.7352690726716524"
      ]
     },
     "execution_count": 44,
     "metadata": {},
     "output_type": "execute_result"
    }
   ],
   "source": [
    "2*4.6e-3/(mu0*10)/196"
   ]
  }
 ],
 "metadata": {
  "kernelspec": {
   "display_name": "Python 3",
   "language": "python",
   "name": "python3"
  },
  "language_info": {
   "codemirror_mode": {
    "name": "ipython",
    "version": 3
   },
   "file_extension": ".py",
   "mimetype": "text/x-python",
   "name": "python",
   "nbconvert_exporter": "python",
   "pygments_lexer": "ipython3",
   "version": "3.6.2"
  }
 },
 "nbformat": 4,
 "nbformat_minor": 2
}
