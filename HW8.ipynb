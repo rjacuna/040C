{
 "cells": [
  {
   "cell_type": "code",
   "execution_count": 23,
   "metadata": {},
   "outputs": [],
   "source": [
    "from sympy import *\n",
    "init_printing(use_unicode=True)"
   ]
  },
  {
   "cell_type": "code",
   "execution_count": 8,
   "metadata": {},
   "outputs": [],
   "source": [
    "m = 1.6726219e-27\n",
    "q = 1.602e-19\n",
    "r = 1e-2\n",
    "dB = 0.1"
   ]
  },
  {
   "cell_type": "code",
   "execution_count": 9,
   "metadata": {},
   "outputs": [
    {
     "data": {
      "image/png": "[encoded data removed]",
      "text/latex": [
       "$$47888.88630478891$$"
      ],
      "text/plain": [
       "47888.88630478891"
      ]
     },
     "execution_count": 9,
     "metadata": {},
     "output_type": "execute_result"
    }
   ],
   "source": [
    "dB*r*q/(2*m)"
   ]
  },
  {
   "cell_type": "code",
   "execution_count": 10,
   "metadata": {},
   "outputs": [],
   "source": [
    "d = 2e-2"
   ]
  },
  {
   "cell_type": "code",
   "execution_count": 12,
   "metadata": {},
   "outputs": [
    {
     "data": {
      "image/png": "[encoded data removed]",
      "text/latex": [
       "$$95777.77260957782$$"
      ],
      "text/plain": [
       "95777.77260957782"
      ]
     },
     "execution_count": 12,
     "metadata": {},
     "output_type": "execute_result"
    }
   ],
   "source": [
    "dB*d*q/(2*m)"
   ]
  },
  {
   "cell_type": "code",
   "execution_count": 32,
   "metadata": {},
   "outputs": [],
   "source": [
    "mu0 = pi*4e-7\n",
    "n = 150\n",
    "l = 14e-2\n",
    "d = 2.9e-2\n",
    "I = 0.79"
   ]
  },
  {
   "cell_type": "code",
   "execution_count": 46,
   "metadata": {},
   "outputs": [
    {
     "data": {
      "image/png": "[encoded data removed]",
      "text/latex": [
       "$$1.35160714285714 \\cdot 10^{-5} \\pi^{2}$$"
      ],
      "text/plain": [
       "                     2\n",
       "1.35160714285714e-5⋅π "
      ]
     },
     "execution_count": 46,
     "metadata": {},
     "output_type": "execute_result"
    }
   ],
   "source": [
    "r = d/2\n",
    "L = mu0*n**2*pi*r**2/l\n",
    "L"
   ]
  },
  {
   "cell_type": "code",
   "execution_count": 49,
   "metadata": {},
   "outputs": [
    {
     "data": {
      "image/png": "[encoded data removed]",
      "text/latex": [
       "$$4.16269326676453 \\cdot 10^{-5}$$"
      ],
      "text/plain": [
       "4.16269326676453e-5"
      ]
     },
     "execution_count": 49,
     "metadata": {},
     "output_type": "execute_result"
    }
   ],
   "source": [
    "U = L*I**2/2\n",
    "N(U)"
   ]
  },
  {
   "cell_type": "markdown",
   "metadata": {},
   "source": [
    "$\\omega = \\frac{1}{\\sqrt{LC}} \\implies \\omega^2 = \\frac{1}{LC} \\implies L = \\frac{1}{C\\omega^2}$"
   ]
  },
  {
   "cell_type": "code",
   "execution_count": 62,
   "metadata": {},
   "outputs": [],
   "source": [
    "f = 100e6\n",
    "C = 10e-12"
   ]
  },
  {
   "cell_type": "code",
   "execution_count": 64,
   "metadata": {},
   "outputs": [],
   "source": [
    "omega = 2*pi*f\n",
    "L = 1/(C*omega**2)"
   ]
  },
  {
   "cell_type": "code",
   "execution_count": 67,
   "metadata": {},
   "outputs": [
    {
     "data": {
      "image/png": "[encoded data removed]",
      "text/latex": [
       "$$2.53302959105844 \\cdot 10^{-7}$$"
      ],
      "text/plain": [
       "2.53302959105844e-7"
      ]
     },
     "execution_count": 67,
     "metadata": {},
     "output_type": "execute_result"
    }
   ],
   "source": [
    "N(L)"
   ]
  },
  {
   "cell_type": "markdown",
   "metadata": {},
   "source": [
    "$R_{equiv} = (\\frac{1}{R_1}+ \\frac{1}{R_2})^{-1}$ \n",
    "\n",
    "$\\tau = \\frac{L}{R}$\n",
    "\n",
    "Let $\\tau = 34 \\mu s, L = 7.5 mH, R_1 = 500 \\Omega$\n",
    "\n",
    "\n",
    "$\\implies 34 \\mu s = \\frac{7.5 mH}{(\\frac{1}{500 \\Omega}+ \\frac{1}{R_2})^-1}$\n",
    "\n",
    "\n",
    "$\\implies 34 \\mu s = 7.5 mH(\\frac{1}{500 \\Omega}+ \\frac{1}{R_2})$\n",
    "\n",
    "$\\implies 34 \\mu s = \\frac{7.5 mH}{500 \\Omega}+ \\frac{7.5 mH}{R_2}$\n",
    "\n",
    "$\\implies \\frac{34 \\mu s}{7.5 mH} - \\frac{1}{500 \\Omega}= \\frac{1}{R_2}$\n",
    "\n",
    "$\\implies R_2 = (\\frac{34 \\mu s}{7.5 mH} - \\frac{1}{500 \\Omega})^{-1}$"
   ]
  },
  {
   "cell_type": "code",
   "execution_count": 68,
   "metadata": {},
   "outputs": [],
   "source": [
    "tau = 34e-6\n",
    "L = 7.5e-3\n",
    "R_1 = 500"
   ]
  },
  {
   "cell_type": "code",
   "execution_count": 73,
   "metadata": {},
   "outputs": [
    {
     "data": {
      "image/png": "[encoded data removed]",
      "text/latex": [
       "$$0.004533333333333334$$"
      ],
      "text/plain": [
       "0.004533333333333334"
      ]
     },
     "execution_count": 73,
     "metadata": {},
     "output_type": "execute_result"
    }
   ],
   "source": [
    "tau/L"
   ]
  },
  {
   "cell_type": "code",
   "execution_count": 75,
   "metadata": {},
   "outputs": [
    {
     "data": {
      "image/png": "[encoded data removed]",
      "text/latex": [
       "$$0.002$$"
      ],
      "text/plain": [
       "0.002"
      ]
     },
     "execution_count": 75,
     "metadata": {},
     "output_type": "execute_result"
    }
   ],
   "source": [
    "1/R_1"
   ]
  },
  {
   "cell_type": "code",
   "execution_count": 78,
   "metadata": {},
   "outputs": [
    {
     "data": {
      "image/png": "[encoded data removed]",
      "text/latex": [
       "$$394.7368421052631$$"
      ],
      "text/plain": [
       "394.7368421052631"
      ]
     },
     "execution_count": 78,
     "metadata": {},
     "output_type": "execute_result"
    }
   ],
   "source": [
    "(tau/L - 1/R_1)**(-1)"
   ]
  },
  {
   "cell_type": "code",
   "execution_count": 80,
   "metadata": {},
   "outputs": [
    {
     "data": {
      "image/png": "[encoded data removed]",
      "text/latex": [
       "$$10.0$$"
      ],
      "text/plain": [
       "10.0"
      ]
     },
     "execution_count": 80,
     "metadata": {},
     "output_type": "execute_result"
    }
   ],
   "source": [
    "(1/20 + 1/20)**(-1)"
   ]
  },
  {
   "cell_type": "markdown",
   "metadata": {},
   "source": [
    "$B_{solenoid} = \\frac{\\mu_0nI}{l}$\n",
    "\n",
    "$A = \\pi r^2$\n",
    "\n",
    "$E = -\\frac{d\\Phi}{dt}$\n",
    "\n",
    "$i = \\frac{\\mathcal{E}}{R}$"
   ]
  },
  {
   "cell_type": "code",
   "execution_count": 95,
   "metadata": {},
   "outputs": [],
   "source": [
    "n = 100\n",
    "l = 11e-2\n",
    "D = 2e-2\n",
    "r = D/2\n",
    "I = symbols(\"I\")"
   ]
  },
  {
   "cell_type": "code",
   "execution_count": 96,
   "metadata": {},
   "outputs": [
    {
     "data": {
      "image/png": "[encoded data removed]",
      "text/latex": [
       "$$0.00114239732857811 I$$"
      ],
      "text/plain": [
       "0.00114239732857811⋅I"
      ]
     },
     "execution_count": 96,
     "metadata": {},
     "output_type": "execute_result"
    }
   ],
   "source": [
    "B_sol = N(mu0*n*I/l)\n",
    "B_sol"
   ]
  },
  {
   "cell_type": "code",
   "execution_count": 93,
   "metadata": {},
   "outputs": [
    {
     "data": {
      "image/png": "[encoded data removed]",
      "text/latex": [
       "$$0.000314159265358979$$"
      ],
      "text/plain": [
       "0.000314159265358979"
      ]
     },
     "execution_count": 93,
     "metadata": {},
     "output_type": "execute_result"
    }
   ],
   "source": [
    "A = N(pi*r**2)\n",
    "A"
   ]
  },
  {
   "cell_type": "code",
   "execution_count": 98,
   "metadata": {},
   "outputs": [
    {
     "data": {
      "image/png": "[encoded data removed]",
      "text/latex": [
       "$$3.58894705494158 \\cdot 10^{-7} I$$"
      ],
      "text/plain": [
       "3.58894705494158e-7⋅I"
      ]
     },
     "execution_count": 98,
     "metadata": {},
     "output_type": "execute_result"
    }
   ],
   "source": [
    "B_sol*A"
   ]
  },
  {
   "cell_type": "code",
   "execution_count": 104,
   "metadata": {},
   "outputs": [
    {
     "data": {
      "image/png": "[encoded data removed]",
      "text/latex": [
       "$$8.97236763735396 \\cdot 10^{-5}$$"
      ],
      "text/plain": [
       "8.97236763735396e-5"
      ]
     },
     "execution_count": 104,
     "metadata": {},
     "output_type": "execute_result"
    }
   ],
   "source": [
    "B_sol*A*(40)/I/(.16)"
   ]
  },
  {
   "cell_type": "markdown",
   "metadata": {},
   "source": [
    "A small, 1.70-mm-diameter circular loop with R = 1.10×10−2 Ω is at the center of a large 120-mm-diameter circular loop. Both loops lie in the same plane. The current in the outer loop changes from +1.0A to −1.0A in 0.100 s ."
   ]
  },
  {
   "cell_type": "code",
   "execution_count": 112,
   "metadata": {},
   "outputs": [],
   "source": [
    "dI_dt = -1*(1-(-1))/0.1"
   ]
  },
  {
   "cell_type": "code",
   "execution_count": 107,
   "metadata": {},
   "outputs": [
    {
     "data": {
      "image/png": "[encoded data removed]",
      "text/latex": [
       "$$20.0$$"
      ],
      "text/plain": [
       "20.0"
      ]
     },
     "execution_count": 107,
     "metadata": {},
     "output_type": "execute_result"
    }
   ],
   "source": [
    "dI_dt"
   ]
  },
  {
   "cell_type": "code",
   "execution_count": 108,
   "metadata": {},
   "outputs": [],
   "source": [
    "l_1 = 1.7e-3/2\n",
    "l_2 = 120e-3/2"
   ]
  },
  {
   "cell_type": "code",
   "execution_count": 111,
   "metadata": {},
   "outputs": [
    {
     "data": {
      "image/png": "[encoded data removed]",
      "text/latex": [
       "$$2.40833333333333 \\cdot 10^{-12} \\pi^{2}$$"
      ],
      "text/plain": [
       "                      2\n",
       "2.40833333333333e-12⋅π "
      ]
     },
     "execution_count": 111,
     "metadata": {},
     "output_type": "execute_result"
    }
   ],
   "source": [
    "M = mu0*pi*l_1**2/(2*l_2)\n",
    "M"
   ]
  },
  {
   "cell_type": "code",
   "execution_count": 116,
   "metadata": {},
   "outputs": [
    {
     "data": {
      "image/png": "[encoded data removed]",
      "text/latex": [
       "$$4.75385945319137 \\cdot 10^{-10}$$"
      ],
      "text/plain": [
       "4.75385945319137e-10"
      ]
     },
     "execution_count": 116,
     "metadata": {},
     "output_type": "execute_result"
    }
   ],
   "source": [
    "emf = N(-1*M*dI_dt)\n",
    "emf"
   ]
  },
  {
   "cell_type": "code",
   "execution_count": 117,
   "metadata": {},
   "outputs": [],
   "source": [
    "R = 1.1e-2"
   ]
  },
  {
   "cell_type": "markdown",
   "metadata": {},
   "source": [
    "$I_{induced} = \\frac{\\mathcal{E}}{R}$"
   ]
  },
  {
   "cell_type": "code",
   "execution_count": 119,
   "metadata": {},
   "outputs": [
    {
     "data": {
      "image/png": "[encoded data removed]",
      "text/latex": [
       "$$4.32169041199216 \\cdot 10^{-8}$$"
      ],
      "text/plain": [
       "4.32169041199216e-8"
      ]
     },
     "execution_count": 119,
     "metadata": {},
     "output_type": "execute_result"
    }
   ],
   "source": [
    "emf/R"
   ]
  },
  {
   "cell_type": "code",
   "execution_count": 120,
   "metadata": {},
   "outputs": [
    {
     "data": {
      "image/png": "[encoded data removed]",
      "text/latex": [
       "$$3.0033333333333334$$"
      ],
      "text/plain": [
       "3.0033333333333334"
      ]
     },
     "execution_count": 120,
     "metadata": {},
     "output_type": "execute_result"
    }
   ],
   "source": [
    "6.8e-2*5.3/0.12"
   ]
  }
 ],
 "metadata": {
  "kernelspec": {
   "display_name": "Python 3",
   "language": "python",
   "name": "python3"
  },
  "language_info": {
   "codemirror_mode": {
    "name": "ipython",
    "version": 3
   },
   "file_extension": ".py",
   "mimetype": "text/x-python",
   "name": "python",
   "nbconvert_exporter": "python",
   "pygments_lexer": "ipython3",
   "version": "3.6.2"
  }
 },
 "nbformat": 4,
 "nbformat_minor": 2
}
